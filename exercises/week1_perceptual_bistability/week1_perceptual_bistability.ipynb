{
 "cells": [
  {
   "cell_type": "markdown",
   "metadata": {},
   "source": [
    "# Perceptual Bistability\n",
    "\n",
    "This exercise was kindly provided by Prof. Sprekeler, Modelling of Cognitive Processes Group, BCCN Berlin. \n",
    "\n",
    "## Part 1\n",
    "In this exercise we will explore a model of binocular rivalry presented by Laing and Chow (2002). While their paper included a spiking network model, we will concern ourselves only with their reduced population rate model.\n",
    "\n",
    "Link to paper: https://www.ncbi.nlm.nih.gov/pubmed/11932559"
   ]
  },
  {
   "cell_type": "code",
   "execution_count": 2,
   "metadata": {},
   "outputs": [],
   "source": [
    "# imports"
   ]
  },
  {
   "cell_type": "markdown",
   "metadata": {},
   "source": [
    "1. write a function \\textit{laing\\_chow} which implements eqs. (1-4) from Laing and Chow (2002) and which can be given to \\textit{scipy.integrate.odeint} as its first argument. The parameters of the model should be additional arguments of \\textit{laing\\_chow} such that you can investigate the behavior of the model for different parameter settings. Reproduce qualitatively Fig. 9 of Laing and Chow (2002) by integrating the differential equation defined by \\textit{laing\\_chow} using \\textit{odeint(laing\\_chow, x0, t, args=(I1, I2))} where \\textit{x0} should contain the initial values $u_1=1$, $a_1=0.1$, $u_2=0$, $a_2=0.25$, $t$ should range from $0$ to $500$, $I$ are the inputs with $I_1 = 0.43$, $I_2 = 0.5$ and all other parameters of the model should be set by default to $\\alpha=0.2$, $\\beta = 0.4$,  $\\phi= 0.4$, $\\tau=20$, $g_1 = g_2 = 1$ in \\textit{laing\\_chow}."
   ]
  },
  {
   "cell_type": "code",
   "execution_count": 3,
   "metadata": {},
   "outputs": [],
   "source": [
    "# your code"
   ]
  },
  {
   "cell_type": "markdown",
   "metadata": {},
   "source": [
    "2. Let us define population 1 as active if $u_1 > u_2$ and equivalently for population 2. Determine the dominance durations $D_1$ during which population 1 is active, from your simulations. To do this write a function \\textit{dominance\\_durations(x1, x2, t)} where \\textit{x1} and \\textit{x2} are arrays containing the simulated states and \\textit{t} is an array of the same length containing the corresponding times. The result should be an array containing the duration of each dominance period in the data. Why are the dominance durations different from the analytical $T_1$ (eq. 9) in the paper?"
   ]
  },
  {
   "cell_type": "code",
   "execution_count": 4,
   "metadata": {},
   "outputs": [],
   "source": [
    "# your code"
   ]
  },
  {
   "cell_type": "markdown",
   "metadata": {},
   "source": [
    "3. The paper states that, if the inputs are larger than $-\\alpha + \\beta + \\phi$, both populations become active and oscillation will stop. Can you confirm this? What about intermediate input values? Do the analytical dominance periods still fit the experimental results? How do you interpret these results?"
   ]
  },
  {
   "cell_type": "code",
   "execution_count": 6,
   "metadata": {},
   "outputs": [],
   "source": [
    "# your code"
   ]
  },
  {
   "cell_type": "code",
   "execution_count": 11,
   "metadata": {},
   "outputs": [],
   "source": [
    "# your answers and interpretations"
   ]
  },
  {
   "cell_type": "markdown",
   "metadata": {},
   "source": [
    "## Part 2\n",
    "\n",
    "Next we will investigate a model of perceptual bistability developed by Moreno-Bote et al. (2007). The model is an attractor network that relies on noise to drive transitions between network states. Once again, while they also present a spiking network model, we will consider only their mean- field firing rate model.\n",
    "\n",
    "link to paper: https://www.ncbi.nlm.nih.gov/pubmed/17615138"
   ]
  },
  {
   "cell_type": "code",
   "execution_count": null,
   "metadata": {},
   "outputs": [],
   "source": []
  }
 ],
 "metadata": {
  "kernelspec": {
   "display_name": "Python 3",
   "language": "python",
   "name": "python3"
  },
  "language_info": {
   "codemirror_mode": {
    "name": "ipython",
    "version": 3
   },
   "file_extension": ".py",
   "mimetype": "text/x-python",
   "name": "python",
   "nbconvert_exporter": "python",
   "pygments_lexer": "ipython3",
   "version": "3.5.6"
  }
 },
 "nbformat": 4,
 "nbformat_minor": 2
}
